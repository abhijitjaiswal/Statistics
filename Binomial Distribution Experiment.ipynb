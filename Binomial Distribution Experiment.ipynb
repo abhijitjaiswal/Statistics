{
 "cells": [
  {
   "cell_type": "code",
   "execution_count": 3,
   "metadata": {},
   "outputs": [],
   "source": [
    "import pandas as pd\n",
    "import numpy as np"
   ]
  },
  {
   "cell_type": "code",
   "execution_count": 4,
   "metadata": {},
   "outputs": [],
   "source": [
    "#Binomial Probability Distribution  (BPD)\n",
    "import math\n",
    "\n",
    "def get_comb(n,r):\n",
    "    return math.factorial(n)/(math.factorial(r)*math.factorial(n-r))\n",
    "\n",
    "#Actual method to get binomial probability\n",
    "def get_prob(n, r, p):\n",
    "    if r == 0:\n",
    "        return (1-p)**n\n",
    "    else:\n",
    "        return get_comb(n,r)*(p**r)*((1-p)**(n-r))"
   ]
  },
  {
   "cell_type": "code",
   "execution_count": 5,
   "metadata": {},
   "outputs": [
    {
     "data": {
      "text/plain": [
       "0.0439453125"
      ]
     },
     "execution_count": 5,
     "metadata": {},
     "output_type": "execute_result"
    }
   ],
   "source": [
    "#Testing the BPD function\n",
    "get_prob(10,2,0.5)"
   ]
  },
  {
   "cell_type": "code",
   "execution_count": 7,
   "metadata": {},
   "outputs": [
    {
     "data": {
      "text/plain": [
       "Text(0.5, 1.0, 'Plotting Simulations and Binomial Probability against each other')"
      ]
     },
     "execution_count": 7,
     "metadata": {},
     "output_type": "execute_result"
    },
    {
     "data": {
      "image/png": "[encoded data removed]",
      "text/plain": [
       "<Figure size 432x288 with 1 Axes>"
      ]
     },
     "metadata": {
      "needs_background": "light"
     },
     "output_type": "display_data"
    }
   ],
   "source": [
    "b = [1,1,1,0,1,1,0,1,0,1,1]  # 1 for Red and 0 for blue\n",
    "n = 4 # Number of Tries\n",
    "s = 2000 # Number of Simulations\n",
    "\n",
    "import random\n",
    "tests = [] #For holding Simulations results\n",
    "\n",
    "#Simulations\n",
    "for i in range(0,s):\n",
    "    temp = []\n",
    "    for i in range(0,4):\n",
    "        temp.append(random.sample(b, 1)[0])\n",
    "    tests.append(temp)\n",
    "\n",
    "#Getting the occurance of 1 in list b, which is further required to find Probability\n",
    "def count(l):\n",
    "    res = 0\n",
    "    for i in l:\n",
    "        if i == 1:\n",
    "            res = res + i\n",
    "    return res\n",
    "\n",
    "#Storing the number of times 0,1,2,3,4 balls were drawn from b\n",
    "d={}\n",
    "for i in tests:\n",
    "    if count(i) in d.keys():\n",
    "        d[count(i)] = d[count(i)] + 1\n",
    "    else:\n",
    "        d[count(i)] = 1\n",
    "\n",
    "#Getting Binomial Distribution Probabilities for 0,1,2,3,4\n",
    "d1 = {}\n",
    "\n",
    "p = get_count(b)/len(b)\n",
    "for i in range(0,n+1):\n",
    "    d1[i] = round(float(get_prob(n, i, p)), 3)\n",
    "\n",
    "\n",
    "#Converting to data frames for plotting\n",
    "df = pd.DataFrame(d.values(), index=d.keys())\n",
    "\n",
    "df = df.sort_index()\n",
    "\n",
    "df = df[0]/s\n",
    "\n",
    "df1 = pd.DataFrame(d1.values(), index=d1.keys())\n",
    "\n",
    "#plotting the \n",
    "import matplotlib.pyplot as plt\n",
    "%matplotlib inline\n",
    "\n",
    "plt.plot(df, \"r*\", label=\"Probability from Simulations\")\n",
    "plt.plot(df1, \"bo\", label=\"Binomial Probability\")\n",
    "plt.xlabel(\"Number of Red balls dram\")\n",
    "plt.ylabel(\"Probability\")\n",
    "plt.legend()\n",
    "plt.title(\"Plotting Simulations and Binomial Probability against each other\")"
   ]
  },
  {
   "cell_type": "code",
   "execution_count": 58,
   "metadata": {},
   "outputs": [
    {
     "name": "stdout",
     "output_type": "stream",
     "text": [
      "Prize Money 120\n",
      "Charge Money 50\n",
      "Expected Value: -2.45\n"
     ]
    }
   ],
   "source": [
    "#Lets experiment for expected value\n",
    "\n",
    "#Condition\n",
    "# If a person gets 4 reds i.e. r=4, let's pay him Rs.150(values = +150) and \n",
    "# anything else we get Rs.10(so the value is -10)\n",
    "\n",
    "#Let's get the winning amount and charge for playing the game such that it is profitable for the house\n",
    "#Once the Expected Value(EV) becomes negative, it will be profitable for the house\n",
    "\n",
    "def evaluate_EV(prob_dict, pay_max = 150, charge_max = 10, step=5, charge_const=False, pay_const=False):\n",
    "    #prob_dict: list of values and their probabilities\n",
    "    #pay_max: Winning amount\n",
    "    #charge_max: charge for playing the game\n",
    "    #step: increasing/Decreasing the charge_max/pay_max by this value\n",
    "    #charge_const: Should the charge for playing the game be kept constant, by default False\n",
    "    #pay_const: Should the Winning amount be kept constant, by default False\n",
    "    \n",
    "    if charge_const and pay_const:\n",
    "        print(\"This cannot be solved as both winning amount and charge for playing should be kept constant\")\n",
    "        return None\n",
    "    \n",
    "    EV=0\n",
    "    #Let's take the probabilities we got by BPD while calculating expect value\n",
    "    for i in prob_dict.keys():\n",
    "        if i > 3:\n",
    "            EV = EV + pay_max*prob_dict[i]\n",
    "        else:\n",
    "            EV = EV - charge_max*prob_dict[i]\n",
    "\n",
    "    #lets keep Charge money increasing and prize money decreasing    \n",
    "    if (not charge_const) and (not pay_const):           \n",
    "        if round(EV, 2) > 0:\n",
    "            EV = evaluate_EV(prob_dict=d1, pay_max=pay_max-step, charge_max=charge_max+step, step=step)\n",
    "        else:\n",
    "            #print(\"Printing for all non const\")\n",
    "            print(\"Prize Money \"+str(pay_max))\n",
    "            print(\"Charge Money \"+str(charge_max))\n",
    "            return(round(EV,2))\n",
    "    \n",
    "    #lets keep Charge money constant  \n",
    "    if charge_const:      \n",
    "        if round(EV, 2) > 0:\n",
    "            EV = evaluate_EV(prob_dict=d1, pay_max=pay_max-step, charge_max=charge_max, step=ste, charge_const=True)\n",
    "        else:\n",
    "            print(\"Prize Money \"+str(pay_max))\n",
    "            print(\"Charge Money \"+str(charge_max))\n",
    "            return(round(EV,2))\n",
    "    return(EV)\n",
    "\n",
    "\n",
    "\n",
    "print(\"Expected Value: \"+str(evaluate_EV(prob_dict=d1,pay_max=150,charge_max=20,step=5,charge_const=False)))\n"
   ]
  },
  {
   "cell_type": "code",
   "execution_count": 15,
   "metadata": {},
   "outputs": [
    {
     "name": "stdout",
     "output_type": "stream",
     "text": [
      "This cannot be solved as both winning amount and charge for playing should be kept constant\n",
      "Expected Value: None\n"
     ]
    }
   ],
   "source": [
    "print(\"Expected Value: \"+\n",
    "      str(evaluate_EV(prob_dict=d1,pay_max=150,charge_max=20,step=5,charge_const=True, pay_const=True)))"
   ]
  },
  {
   "cell_type": "code",
   "execution_count": 31,
   "metadata": {},
   "outputs": [],
   "source": [
    "def win(gd, pay, charge):\n",
    "    win = 0\n",
    "    for i in gd.keys():\n",
    "        if i == 4:\n",
    "            win = win + gd[i]*pay\n",
    "        else:\n",
    "            win = win - gd[i]*charge\n",
    "    return win\n",
    "    "
   ]
  },
  {
   "cell_type": "code",
   "execution_count": 254,
   "metadata": {},
   "outputs": [],
   "source": [
    "#Now lets play 100 games 100 times:\n",
    "all_games = []\n",
    "limit = 500\n",
    "limit_range = {}\n",
    "for m in range(0, limit, 5):\n",
    "    for j in range(0,5):\n",
    "        game = []\n",
    "\n",
    "        #Simulations\n",
    "        for i in range(0,100):\n",
    "            temp = []\n",
    "            for i in range(0,4):\n",
    "                temp.append(random.sample(b, 1)[0])\n",
    "            game.append(temp)\n",
    "\n",
    "        game\n",
    "\n",
    "        #Storing the number of times 0,1,2,3,4 balls were drawn from b\n",
    "        g={}\n",
    "        for i in game:\n",
    "            if count(i) in g.keys():\n",
    "                g[count(i)] = g[count(i)] + 1\n",
    "            else:\n",
    "                g[count(i)] = 1\n",
    "        #print(g)\n",
    "        all_games.append(win(g, 120, 50))\n",
    "    limit_range[m] = np.mean(all_games)\n"
   ]
  },
  {
   "cell_type": "code",
   "execution_count": 255,
   "metadata": {},
   "outputs": [
    {
     "data": {
      "text/plain": [
       "[<matplotlib.lines.Line2D at 0x1140e7978>]"
      ]
     },
     "execution_count": 255,
     "metadata": {},
     "output_type": "execute_result"
    },
    {
     "data": {
      "image/png": "[encoded data removed]",
      "text/plain": [
       "<Figure size 432x288 with 1 Axes>"
      ]
     },
     "metadata": {
      "needs_background": "light"
     },
     "output_type": "display_data"
    }
   ],
   "source": [
    "plt.plot(all_games, \"*r\")\n",
    "plt.plot([0, limit], [np.mean(all_games), np.mean(all_games)], 'k-', lw=2)"
   ]
  },
  {
   "cell_type": "code",
   "execution_count": 256,
   "metadata": {},
   "outputs": [
    {
     "name": "stdout",
     "output_type": "stream",
     "text": [
      "Average winning amount per game is: -2.6108\n"
     ]
    }
   ],
   "source": [
    "print(\"Average winning amount per game is: \"+ \n",
    "      str(np.mean(all_games)/100))"
   ]
  },
  {
   "cell_type": "code",
   "execution_count": 257,
   "metadata": {},
   "outputs": [],
   "source": [
    "l=pd.DataFrame(limit_range.items())\n",
    "l[1] = l[1]/100"
   ]
  },
  {
   "cell_type": "code",
   "execution_count": 258,
   "metadata": {},
   "outputs": [
    {
     "data": {
      "text/plain": [
       "Text(0.5, 1.0, '100 Games played vs Win per game')"
      ]
     },
     "execution_count": 258,
     "metadata": {},
     "output_type": "execute_result"
    },
    {
     "data": {
      "image/png": "[encoded data removed]",
      "text/plain": [
       "<Figure size 432x288 with 1 Axes>"
      ]
     },
     "metadata": {
      "needs_background": "light"
     },
     "output_type": "display_data"
    }
   ],
   "source": [
    "plt.plot(l.iloc[:, :1], l.iloc[:, 1])\n",
    "plt.xlabel(\"Number of 100 Games played\")\n",
    "plt.ylabel(\"Average win per game\")\n",
    "plt.title(\"100 Games played vs Win per game\")"
   ]
  },
  {
   "cell_type": "code",
   "execution_count": 315,
   "metadata": {},
   "outputs": [
    {
     "data": {
      "text/plain": [
       "(array([  3.,   8.,  42.,  84., 126., 189., 137.,  77.,  25.,   9.]),\n",
       " array([1.7 , 2.04, 2.38, 2.72, 3.06, 3.4 , 3.74, 4.08, 4.42, 4.76, 5.1 ]),\n",
       " <a list of 10 Patch objects>)"
      ]
     },
     "execution_count": 315,
     "metadata": {},
     "output_type": "execute_result"
    },
    {
     "data": {
      "image/png": "[encoded data removed]",
      "text/plain": [
       "<Figure size 432x288 with 1 Axes>"
      ]
     },
     "metadata": {
      "needs_background": "light"
     },
     "output_type": "display_data"
    }
   ],
   "source": [
    "#CLT\n",
    "no_of_samples =700\n",
    "t = []   #Average of 10 random outcomes\n",
    "sd = []  #Standard Deviation of 10 random outcomes\n",
    "for i in range(0, no_of_samples):\n",
    "    m = np.random.randint(1,7, 10)\n",
    "    t.append(np.mean(m))\n",
    "    sd.append(np.std(m))\n",
    "plt.hist(t)"
   ]
  },
  {
   "cell_type": "code",
   "execution_count": 316,
   "metadata": {},
   "outputs": [
    {
     "data": {
      "text/plain": [
       "(array([  1.,  10.,  22.,  67., 113., 201., 168.,  77.,  37.,   4.]),\n",
       " array([0.6       , 0.77345235, 0.9469047 , 1.12035705, 1.2938094 ,\n",
       "        1.46726175, 1.6407141 , 1.81416645, 1.9876188 , 2.16107116,\n",
       "        2.33452351]),\n",
       " <a list of 10 Patch objects>)"
      ]
     },
     "execution_count": 316,
     "metadata": {},
     "output_type": "execute_result"
    },
    {
     "data": {
      "image/png": "[encoded data removed]",
      "text/plain": [
       "<Figure size 432x288 with 1 Axes>"
      ]
     },
     "metadata": {
      "needs_background": "light"
     },
     "output_type": "display_data"
    }
   ],
   "source": [
    "#Plot of Standard deviation\n",
    "plt.hist(sd)"
   ]
  },
  {
   "cell_type": "code",
   "execution_count": 321,
   "metadata": {},
   "outputs": [
    {
     "data": {
      "text/plain": [
       "(44216.097148830755, 46925.902851169245)"
      ]
     },
     "execution_count": 321,
     "metadata": {},
     "output_type": "execute_result"
    }
   ],
   "source": [
    "#Getting range of values depending upon confidence interval\n",
    "\n",
    "i = pd.read_csv(\"Inferential Statistics - Powai Flats Rent.csv\")\n",
    "\n",
    "mn = np.mean(i[\"Monthly Rent\"])\n",
    "\n",
    "mx = list(i[\"Monthly Rent\"])\n",
    "\n",
    "import math\n",
    "import scipy.stats as st\n",
    "\n",
    "def get_sd(l):\n",
    "    # Expects the list of values\n",
    "    # Returns standard deviation for the list of values\n",
    "    mn = np.mean(l)\n",
    "    temp = 0\n",
    "    for j in l:\n",
    "        temp = temp + (j-mn)*(j-mn)\n",
    "    #print(temp)\n",
    "    return math.sqrt(temp/len(l))\n",
    "\n",
    "def get_moe(sd, l, prob):\n",
    "    #Expects standard deviation, list of values and probability for which we need to find margin of error\n",
    "    #return margin of error\n",
    "    tp = 1 - prob\n",
    "    p1 = 1 - tp/2 \n",
    "    p2 = tp/2\n",
    "    pfinal = (st.norm.ppf(p1) - st.norm.ppf(p2))/2\n",
    "    #print(pfinal)\n",
    "    #print(p2)\n",
    "    return (pfinal * sd)/math.sqrt(len(l))\n",
    "\n",
    "def get_critical_values(l, prob):\n",
    "    #Expectds list of values and probability\n",
    "    # Returns critical value for the probability specified\n",
    "    t1 = np.mean(l) - get_moe(get_sd(l), l, prob)\n",
    "    t2 = np.mean(l) + get_moe(get_sd(l), l, prob)\n",
    "    return (t1, t2)\n",
    "\n",
    "get_sd(list(i[\"Monthly Rent\"]))\n",
    "\n",
    "get_critical_values(i[\"Monthly Rent\"], 0.99)"
   ]
  },
  {
   "cell_type": "code",
   "execution_count": null,
   "metadata": {},
   "outputs": [],
   "source": []
  }
 ],
 "metadata": {
  "kernelspec": {
   "display_name": "Python 3",
   "language": "python",
   "name": "python3"
  },
  "language_info": {
   "codemirror_mode": {
    "name": "ipython",
    "version": 3
   },
   "file_extension": ".py",
   "mimetype": "text/x-python",
   "name": "python",
   "nbconvert_exporter": "python",
   "pygments_lexer": "ipython3",
   "version": "3.6.4"
  }
 },
 "nbformat": 4,
 "nbformat_minor": 2
}
