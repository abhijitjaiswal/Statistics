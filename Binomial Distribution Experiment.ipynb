{
 "cells": [
  {
   "cell_type": "code",
   "execution_count": 3,
   "metadata": {},
   "outputs": [],
   "source": [
    "import pandas as pd\n",
    "import numpy as np"
   ]
  },
  {
   "cell_type": "code",
   "execution_count": 4,
   "metadata": {},
   "outputs": [],
   "source": [
    "#Binomial Probability Distribution  (BPD)\n",
    "import math\n",
    "\n",
    "def get_comb(n,r):\n",
    "    return math.factorial(n)/(math.factorial(r)*math.factorial(n-r))\n",
    "\n",
    "#Actual method to get binomial probability\n",
    "def get_prob(n, r, p):\n",
    "    if r == 0:\n",
    "        return (1-p)**n\n",
    "    else:\n",
    "        return get_comb(n,r)*(p**r)*((1-p)**(n-r))"
   ]
  },
  {
   "cell_type": "code",
   "execution_count": 5,
   "metadata": {},
   "outputs": [
    {
     "data": {
      "text/plain": [
       "0.0439453125"
      ]
     },
     "execution_count": 5,
     "metadata": {},
     "output_type": "execute_result"
    }
   ],
   "source": [
    "#Testing the BPD function\n",
    "get_prob(10,2,0.5)"
   ]
  },
  {
   "cell_type": "code",
   "execution_count": 7,
   "metadata": {},
   "outputs": [
    {
     "data": {
      "text/plain": [
       "Text(0.5, 1.0, 'Plotting Simulations and Binomial Probability against each other')"
      ]
     },
     "execution_count": 7,
     "metadata": {},
     "output_type": "execute_result"
    },
    {
     "data": {
      "image/png": "[encoded data removed]",
      "text/plain": [
       "<Figure size 432x288 with 1 Axes>"
      ]
     },
     "metadata": {
      "needs_background": "light"
     },
     "output_type": "display_data"
    }
   ],
   "source": [
    "b = [1,1,1,0,1,1,0,1,0,1,1]  # 1 for Red and 0 for blue\n",
    "n = 4 # Number of Tries\n",
    "s = 2000 # Number of Simulations\n",
    "\n",
    "import random\n",
    "tests = [] #For holding Simulations results\n",
    "\n",
    "#Simulations\n",
    "for i in range(0,s):\n",
    "    temp = []\n",
    "    for i in range(0,4):\n",
    "        temp.append(random.sample(b, 1)[0])\n",
    "    tests.append(temp)\n",
    "\n",
    "#Getting the occurance of 1 in list b, which is further required to find Probability\n",
    "def count(l):\n",
    "    res = 0\n",
    "    for i in l:\n",
    "        if i == 1:\n",
    "            res = res + i\n",
    "    return res\n",
    "\n",
    "#Storing the number of times 0,1,2,3,4 balls were drawn from b\n",
    "d={}\n",
    "for i in tests:\n",
    "    if count(i) in d.keys():\n",
    "        d[count(i)] = d[count(i)] + 1\n",
    "    else:\n",
    "        d[count(i)] = 1\n",
    "\n",
    "#Getting Binomial Distribution Probabilities for 0,1,2,3,4\n",
    "d1 = {}\n",
    "\n",
    "p = get_count(b)/len(b)\n",
    "for i in range(0,n+1):\n",
    "    d1[i] = round(float(get_prob(n, i, p)), 3)\n",
    "\n",
    "\n",
    "#Converting to data frames for plotting\n",
    "df = pd.DataFrame(d.values(), index=d.keys())\n",
    "\n",
    "df = df.sort_index()\n",
    "\n",
    "df = df[0]/s\n",
    "\n",
    "df1 = pd.DataFrame(d1.values(), index=d1.keys())\n",
    "\n",
    "#plotting the \n",
    "import matplotlib.pyplot as plt\n",
    "%matplotlib inline\n",
    "\n",
    "plt.plot(df, \"r*\", label=\"Probability from Simulations\")\n",
    "plt.plot(df1, \"bo\", label=\"Binomial Probability\")\n",
    "plt.xlabel(\"Number of Red balls dram\")\n",
    "plt.ylabel(\"Probability\")\n",
    "plt.legend()\n",
    "plt.title(\"Plotting Simulations and Binomial Probability against each other\")"
   ]
  },
  {
   "cell_type": "code",
   "execution_count": 13,
   "metadata": {},
   "outputs": [
    {
     "name": "stdout",
     "output_type": "stream",
     "text": [
      "Prize Money 120\n",
      "Charge Money 50\n",
      "Expected Value: -2.45\n"
     ]
    }
   ],
   "source": [
    "#Lets experiment for expected value\n",
    "\n",
    "#Condition\n",
    "# If a person gets 4 reds i.e. r=4, let's pay him Rs.150(values = +150) and \n",
    "# anything else we get Rs.10(so the value is -10)\n",
    "\n",
    "#Let's get the winning amount and charge for playing the game such that it is profitable for the house\n",
    "#Once the Expected Value(EV) becomes negative, it will be profitable for the house\n",
    "\n",
    "def evaluate_EV(prob_dict, pay_max = 150, charge_max = 10, step=5, charge_const=False, pay_const=False):\n",
    "    #prob_dict: list of values and their probabilities\n",
    "    #pay_max: Winning amount\n",
    "    #charge_max: charge for playing the game\n",
    "    #step: increasing/Decreasing the charge_max/pay_max by this value\n",
    "    #charge_const: Should the charge for playing the game be kept constant, by default False\n",
    "    #pay_const: Should the Winning amount be kept constant, by default False\n",
    "    \n",
    "    if charge_const and pay_const:\n",
    "        print(\"This cannot be solved as both winning amount and charge for playing should be kept constant\")\n",
    "        return None\n",
    "    \n",
    "    EV=0\n",
    "    #Let's take the probabilities we got by BPD while calculating expect value\n",
    "    for i in prob_dict.keys():\n",
    "        if i > 3:\n",
    "            EV = EV + pay_max*prob_dict[i]\n",
    "        else:\n",
    "            EV = EV - charge_max*prob_dict[i]\n",
    "\n",
    "    #lets keep Charge money increasing and prize money decreasing    \n",
    "    if (not charge_const) and (not pay_const):           \n",
    "        if round(EV, 2) > 0:\n",
    "            EV = evaluate_EV(prob_dict=d1, pay_max=pay_max-step, charge_max=charge_max+step, step=step)\n",
    "        else:\n",
    "            #print(\"Printing for all non const\")\n",
    "            print(\"Prize Money \"+str(pay_max))\n",
    "            print(\"Charge Money \"+str(charge_max))\n",
    "            return(round(EV,2))\n",
    "    \n",
    "    #lets keep Charge money constant  \n",
    "    if charge_const:      \n",
    "        if round(EV, 2) > 0:\n",
    "            EV = evaluate_EV(prob_dict=d1, pay_max=pay_max-step, charge_max=charge_max, step=ste, charge_const=True)\n",
    "        else:\n",
    "            print(\"Prize Money \"+str(pay_max))\n",
    "            print(\"Charge Money \"+str(charge_max))\n",
    "            return(round(EV,2))\n",
    "    return(EV)\n",
    "\n",
    "\n",
    "\n",
    "print(\"Expected Value: \"+str(evaluate_EV(prob_dict=d1,pay_max=150,charge_max=20,step=5,charge_const=False)))\n"
   ]
  },
  {
   "cell_type": "code",
   "execution_count": 14,
   "metadata": {},
   "outputs": [
    {
     "name": "stdout",
     "output_type": "stream",
     "text": [
      "This cannot be solved as both winning amount and charge for playing should be kept constant\n",
      "Expected Value: None\n"
     ]
    }
   ],
   "source": [
    "print(\"Expected Value: \"+\n",
    "      str(evaluate_EV(prob_dict=d1,pay_max=150,charge_max=20,step=5,charge_const=True, pay_const=True)))"
   ]
  }
 ],
 "metadata": {
  "kernelspec": {
   "display_name": "Python 3",
   "language": "python",
   "name": "python3"
  },
  "language_info": {
   "codemirror_mode": {
    "name": "ipython",
    "version": 3
   },
   "file_extension": ".py",
   "mimetype": "text/x-python",
   "name": "python",
   "nbconvert_exporter": "python",
   "pygments_lexer": "ipython3",
   "version": "3.6.4"
  }
 },
 "nbformat": 4,
 "nbformat_minor": 2
}
